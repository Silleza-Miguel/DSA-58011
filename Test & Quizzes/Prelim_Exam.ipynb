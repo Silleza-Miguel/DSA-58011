{
  "nbformat": 4,
  "nbformat_minor": 0,
  "metadata": {
    "colab": {
      "provenance": [],
      "authorship_tag": "ABX9TyNId4lhaSFD8PkTKvGIChzz",
      "include_colab_link": true
    },
    "kernelspec": {
      "name": "python3",
      "display_name": "Python 3"
    },
    "language_info": {
      "name": "python"
    }
  },
  "cells": [
    {
      "cell_type": "markdown",
      "metadata": {
        "id": "view-in-github",
        "colab_type": "text"
      },
      "source": [
        "<a href=\"https://colab.research.google.com/github/Silleza-Miguel/DSA-58011/blob/main/Test%20%26%20Quizzes/Prelim_Exam.ipynb\" target=\"_parent\"><img src=\"https://colab.research.google.com/assets/colab-badge.svg\" alt=\"Open In Colab\"/></a>"
      ]
    },
    {
      "cell_type": "code",
      "execution_count": 1,
      "metadata": {
        "colab": {
          "base_uri": "https://localhost:8080/"
        },
        "id": "ahxX55om19NP",
        "outputId": "a7681e52-ec16-46f1-c105-edc841ccd810"
      },
      "outputs": [
        {
          "output_type": "stream",
          "name": "stdout",
          "text": [
            "From the range of 1 to 10, 4 are composite numbers.\n"
          ]
        }
      ],
      "source": [
        "num = [1, 2, 3, 4, 5, 6, 7, 8, 9, 10]\n",
        "composite = []\n",
        "\n",
        "for i in range(0, len(num)):\n",
        "    for a in range(2, num[i]):\n",
        "        if (num[i] % a) == 0 and num[i] < 10:\n",
        "            composite.append(num[i])\n",
        "            break\n",
        "\n",
        "print(\n",
        "    f\"From the range of {num[0]} to {num[-1]}, {len(composite)} are composite numbers.\")"
      ]
    }
  ]
}
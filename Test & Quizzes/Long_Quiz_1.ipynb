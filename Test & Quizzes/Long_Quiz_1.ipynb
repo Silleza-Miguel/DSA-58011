{
  "nbformat": 4,
  "nbformat_minor": 0,
  "metadata": {
    "colab": {
      "provenance": [],
      "authorship_tag": "ABX9TyPMpa2/PrJjRLr30ukEzpN/",
      "include_colab_link": true
    },
    "kernelspec": {
      "name": "python3",
      "display_name": "Python 3"
    },
    "language_info": {
      "name": "python"
    }
  },
  "cells": [
    {
      "cell_type": "markdown",
      "metadata": {
        "id": "view-in-github",
        "colab_type": "text"
      },
      "source": [
        "<a href=\"https://colab.research.google.com/github/Silleza-Miguel/DSA-58011/blob/main/Test%20%26%20Quizzes/Long_Quiz_1.ipynb\" target=\"_parent\"><img src=\"https://colab.research.google.com/assets/colab-badge.svg\" alt=\"Open In Colab\"/></a>"
      ]
    },
    {
      "cell_type": "code",
      "execution_count": 51,
      "metadata": {
        "colab": {
          "base_uri": "https://localhost:8080/"
        },
        "id": "3txkZbSFTvtQ",
        "outputId": "00315612-180f-43c2-9865-85f9bbebff33"
      },
      "outputs": [
        {
          "output_type": "stream",
          "name": "stdout",
          "text": [
            "Please type your name:\n",
            "Miguel SIlleza\n",
            "Azellis leugim\n"
          ]
        }
      ],
      "source": [
        "nameStr = input(\"Please type your name:\\n\").lower()\n",
        "\n",
        "name = list(nameStr)\n",
        "\n",
        "name.reverse()\n",
        "reversed = \"\".join(name)\n",
        "\n",
        "print(reversed.capitalize())\n"
      ]
    },
    {
      "cell_type": "code",
      "source": [
        "\"\".join(name.reverse)"
      ],
      "metadata": {
        "id": "SnAeLzuDYwp4"
      },
      "execution_count": null,
      "outputs": []
    }
  ]
}
{
  "nbformat": 4,
  "nbformat_minor": 0,
  "metadata": {
    "colab": {
      "name": "Practical Lab Exam",
      "provenance": [],
      "authorship_tag": "ABX9TyNxKow+deWZ0Rn/mpYJNPGa",
      "include_colab_link": true
    },
    "kernelspec": {
      "name": "python3",
      "display_name": "Python 3"
    },
    "language_info": {
      "name": "python"
    }
  },
  "cells": [
    {
      "cell_type": "markdown",
      "metadata": {
        "id": "view-in-github",
        "colab_type": "text"
      },
      "source": [
        "<a href=\"https://colab.research.google.com/github/Silleza-Miguel/DSA-58011/blob/main/Test%20%26%20Quizzes/Practical_Lab_Exam.ipynb\" target=\"_parent\"><img src=\"https://colab.research.google.com/assets/colab-badge.svg\" alt=\"Open In Colab\"/></a>"
      ]
    },
    {
      "cell_type": "code",
      "execution_count": 1,
      "metadata": {
        "colab": {
          "base_uri": "https://localhost:8080/"
        },
        "id": "PnKrVcz7YWr5",
        "outputId": "2db8eff2-1acb-4f31-af73-670a993ba369"
      },
      "outputs": [
        {
          "output_type": "stream",
          "name": "stdout",
          "text": [
            "The total sum of all odd numbered test scores is 211\n"
          ]
        }
      ],
      "source": [
        "scores = [26, 49, 98, 87, 62, 75]\n",
        "\n",
        "odd = sum(num for num in scores if num % 2 != 0)\n",
        "print(\"The total sum of all odd numbered test scores is\", odd)"
      ]
    }
  ]
}
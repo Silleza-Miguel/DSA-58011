{
  "nbformat": 4,
  "nbformat_minor": 0,
  "metadata": {
    "colab": {
      "provenance": [],
      "authorship_tag": "ABX9TyMvT5tDaN2AFQpvu2HtQ4NQ",
      "include_colab_link": true
    },
    "kernelspec": {
      "name": "python3",
      "display_name": "Python 3"
    },
    "language_info": {
      "name": "python"
    }
  },
  "cells": [
    {
      "cell_type": "markdown",
      "metadata": {
        "id": "view-in-github",
        "colab_type": "text"
      },
      "source": [
        "<a href=\"https://colab.research.google.com/github/Silleza-Miguel/DSA-58011/blob/main/Assignments/Caesar_Cipher.ipynb\" target=\"_parent\"><img src=\"https://colab.research.google.com/assets/colab-badge.svg\" alt=\"Open In Colab\"/></a>"
      ]
    },
    {
      "cell_type": "code",
      "execution_count": 2,
      "metadata": {
        "colab": {
          "base_uri": "https://localhost:8080/"
        },
        "id": "xnA8vJpGm1PQ",
        "outputId": "30496521-b570-49ff-f19e-d5058ea9c3ac"
      },
      "outputs": [
        {
          "name": "stdout",
          "output_type": "stream",
          "text": [
            "Type \"stop\" to break the loop.\n",
            "Encrypt[0] or Decrypt[1]? no\n",
            "Encrypt[0] or Decrypt[1]? 0\n",
            "Encrypt: Just when I thought I was over you\n",
            "Mxvw zkhq L wkrxjkw L zdv ryhu brx\n",
            "\n",
            "Encrypt[0] or Decrypt[1]? 1\n",
            "Decrypt: Mxvw zkhq L wkrxjkw L zdv ryhu brx\n",
            "Just when I thought I was over you\n",
            "\n",
            "Encrypt[0] or Decrypt[1]? stop\n"
          ]
        }
      ],
      "source": [
        "def cipher(n, x):\n",
        "    result = []\n",
        "\n",
        "    for i in range(len(n)):\n",
        "        char = n[i]\n",
        "\n",
        "        if char.isupper():\n",
        "            result.append(chr((ord(char) + (x - 65)) % 26 + 65))\n",
        "\n",
        "        elif char.islower():\n",
        "            result.append(chr((ord(char) + (x - 97)) % 26 + 97))\n",
        "\n",
        "        elif char == ' ':\n",
        "            result.append(' ')\n",
        "\n",
        "    print(''.join([str(x) for x in result]) + '\\n')\n",
        "\n",
        "\n",
        "print('Type \"stop\" to break the loop.')\n",
        "while True:\n",
        "    choice = input('Encrypt[0] or Decrypt[1]? ')\n",
        "\n",
        "    try:\n",
        "        if choice.lower() == 'stop':\n",
        "            break\n",
        "\n",
        "        elif int(choice) == 0:\n",
        "            sentence = input(\"Encrypt: \")\n",
        "            cipher(sentence, 3)\n",
        "\n",
        "        elif int(choice) == 1:\n",
        "            sentence = input(\"Decrypt: \")\n",
        "            cipher(sentence, -3)\n",
        "\n",
        "    except ValueError:\n",
        "        continue\n"
      ]
    }
  ]
}
{
  "nbformat": 4,
  "nbformat_minor": 0,
  "metadata": {
    "colab": {
      "name": "Area of Circle",
      "provenance": [],
      "authorship_tag": "ABX9TyNPYl29NnzbLI68hR80koUp",
      "include_colab_link": true
    },
    "kernelspec": {
      "name": "python3",
      "display_name": "Python 3"
    },
    "language_info": {
      "name": "python"
    }
  },
  "cells": [
    {
      "cell_type": "markdown",
      "metadata": {
        "id": "view-in-github",
        "colab_type": "text"
      },
      "source": [
        "<a href=\"https://colab.research.google.com/github/Silleza-Miguel/DSA-58011/blob/main/Assignments/Area_of_Circle.ipynb\" target=\"_parent\"><img src=\"https://colab.research.google.com/assets/colab-badge.svg\" alt=\"Open In Colab\"/></a>"
      ]
    },
    {
      "cell_type": "code",
      "execution_count": 10,
      "metadata": {
        "colab": {
          "base_uri": "https://localhost:8080/"
        },
        "id": "_NrDr2b8Dgov",
        "outputId": "6bedf9ed-ef31-403d-f471-5f8177506a80"
      },
      "outputs": [
        {
          "output_type": "stream",
          "name": "stdout",
          "text": [
            "What is the diameter? 6\n",
            "The area is 28.26\n"
          ]
        }
      ],
      "source": [
        "diameter = int(input(\"What is the diameter? \"))\n",
        "\n",
        "area = str(3.14*(diameter/2)**2)\n",
        "\n",
        "print(f\"The area is {area}\")"
      ]
    }
  ]
}
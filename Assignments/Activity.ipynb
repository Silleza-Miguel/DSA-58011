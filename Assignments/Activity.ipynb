{
  "nbformat": 4,
  "nbformat_minor": 0,
  "metadata": {
    "colab": {
      "provenance": [],
      "authorship_tag": "ABX9TyOUkLgcc6aH0w+X6cEi4YHA",
      "include_colab_link": true
    },
    "kernelspec": {
      "name": "python3",
      "display_name": "Python 3"
    },
    "language_info": {
      "name": "python"
    }
  },
  "cells": [
    {
      "cell_type": "markdown",
      "metadata": {
        "id": "view-in-github",
        "colab_type": "text"
      },
      "source": [
        "<a href=\"https://colab.research.google.com/github/Silleza-Miguel/DSA-58011/blob/main/Assignments/Activity.ipynb\" target=\"_parent\"><img src=\"https://colab.research.google.com/assets/colab-badge.svg\" alt=\"Open In Colab\"/></a>"
      ]
    },
    {
      "cell_type": "code",
      "execution_count": 4,
      "metadata": {
        "colab": {
          "base_uri": "https://localhost:8080/"
        },
        "id": "3fTYQ1oibUuK",
        "outputId": "0fc229ea-5925-4e56-99af-190aa937e80a"
      },
      "outputs": [
        {
          "output_type": "stream",
          "name": "stdout",
          "text": [
            "[4, 8, 4, 3, 5, 8, 6, 2, 9, 6]\n",
            "The sum of the array is 55\n"
          ]
        }
      ],
      "source": [
        "# 1. Write a Python program to create an array of 10 integers and display the array items. Access individual elements through indexes and compute for the sum.\n",
        "\n",
        "import random\n",
        "\n",
        "array = []\n",
        "\n",
        "for i in range(0, 10):\n",
        "    num = random.randint(0, 10)\n",
        "    array.append(num)\n",
        "\n",
        "print(array)\n",
        "print(f\"The sum of the array is\", sum(array))"
      ]
    },
    {
      "cell_type": "code",
      "source": [
        "# 2. Write a Python program to append a new item to the end of the array. Original array: numbers = [1, 2, 3, 4, 5, 6, 7, 8, 9, 10]\n",
        "\n",
        "numbers = [1, 2, 3, 4, 5, 6, 7, 8, 9, 10]\n",
        "\n",
        "print(\"Original:\", numbers)\n",
        "numbers.append(11)\n",
        "print(\"Appended:\", numbers)"
      ],
      "metadata": {
        "colab": {
          "base_uri": "https://localhost:8080/"
        },
        "id": "vbPiMTtXbhtr",
        "outputId": "1b3a5518-0ff7-4930-c936-91e4ac370377"
      },
      "execution_count": 2,
      "outputs": [
        {
          "output_type": "stream",
          "name": "stdout",
          "text": [
            "Original: [1, 2, 3, 4, 5, 6, 7, 8, 9, 10]\n",
            "Appended: [1, 2, 3, 4, 5, 6, 7, 8, 9, 10, 11]\n"
          ]
        }
      ]
    },
    {
      "cell_type": "code",
      "source": [
        "# 3. Write a Python program to insert a new item before the second element in an existing array. Original array: numbers = [1, 2, 3, 4, 5, 6, 7, 8, 9, 10]\n",
        "\n",
        "numbers = [1, 2, 3, 4, 5, 6, 7, 8, 9, 10]\n",
        "\n",
        "print(\"Original:\", numbers)\n",
        "numbers.insert(1, 1.5)\n",
        "print(\"Inserted:\", numbers)"
      ],
      "metadata": {
        "colab": {
          "base_uri": "https://localhost:8080/"
        },
        "id": "CUjE6r6fbtRx",
        "outputId": "be122cf3-11a4-4938-9ea3-475c37f7af0e"
      },
      "execution_count": 5,
      "outputs": [
        {
          "output_type": "stream",
          "name": "stdout",
          "text": [
            "Original: [1, 2, 3, 4, 5, 6, 7, 8, 9, 10]\n",
            "Inserted: [1, 1.5, 2, 3, 4, 5, 6, 7, 8, 9, 10]\n"
          ]
        }
      ]
    },
    {
      "cell_type": "code",
      "source": [
        "# 4. Write a Python program to reverse the order of the items in the array.Original array: numbers = [5, 4, 3, 2, 1]\n",
        "\n",
        "numbers = [5, 4, 3, 2, 1]\n",
        "\n",
        "print(\"Original:\", numbers)\n",
        "numbers.reverse()\n",
        "print(\"Reversed:\", numbers)"
      ],
      "metadata": {
        "colab": {
          "base_uri": "https://localhost:8080/"
        },
        "id": "QfB154cUbuKW",
        "outputId": "fe01aa66-cce1-4d4e-d3df-12353b94c5c2"
      },
      "execution_count": 6,
      "outputs": [
        {
          "output_type": "stream",
          "name": "stdout",
          "text": [
            "Original: [5, 4, 3, 2, 1]\n",
            "Reversed: [1, 2, 3, 4, 5]\n"
          ]
        }
      ]
    },
    {
      "cell_type": "code",
      "source": [
        "# 5. Write a Python program to get the length of the array. Original array: numbers = [5, 4, 3, 2, 1]\n",
        "\n",
        "numbers = [5, 4, 3, 2, 1]\n",
        "\n",
        "print(f\"{numbers}\"\n",
        "      \"\\nThe length of the array is\", len(numbers))"
      ],
      "metadata": {
        "colab": {
          "base_uri": "https://localhost:8080/"
        },
        "id": "M6ujjSuDbv5A",
        "outputId": "b6f59f43-c408-44c0-d5e3-c9eff9875e7d"
      },
      "execution_count": 7,
      "outputs": [
        {
          "output_type": "stream",
          "name": "stdout",
          "text": [
            "[5, 4, 3, 2, 1]\n",
            "The length of the array is 5\n"
          ]
        }
      ]
    }
  ]
}
{
  "nbformat": 4,
  "nbformat_minor": 0,
  "metadata": {
    "colab": {
      "provenance": [],
      "authorship_tag": "ABX9TyN9b/rLvPV18d1pDBHFq28u",
      "include_colab_link": true
    },
    "kernelspec": {
      "name": "python3",
      "display_name": "Python 3"
    },
    "language_info": {
      "name": "python"
    }
  },
  "cells": [
    {
      "cell_type": "markdown",
      "metadata": {
        "id": "view-in-github",
        "colab_type": "text"
      },
      "source": [
        "<a href=\"https://colab.research.google.com/github/Silleza-Miguel/DSA-58011/blob/main/Assignments/Graph.ipynb\" target=\"_parent\"><img src=\"https://colab.research.google.com/assets/colab-badge.svg\" alt=\"Open In Colab\"/></a>"
      ]
    },
    {
      "cell_type": "code",
      "source": [
        "#Data Elements using Dictionaries to implement Graphs\n",
        "graph = {\n",
        "  'a' : ['b', 'c'],\n",
        "  'b' : ['a', 'd'],\n",
        "  'c' : ['a', 'd'],\n",
        "  'c' : ['a', 'd'],\n",
        "  'd' : ['b', 'c', 'e'],\n",
        "  'e' : ['e']\n",
        "}\n",
        "\n",
        "print(graph)"
      ],
      "metadata": {
        "colab": {
          "base_uri": "https://localhost:8080/"
        },
        "id": "vCAIC3Vit2y-",
        "outputId": "c692287d-1d6b-424b-c506-e3149940c505"
      },
      "execution_count": 7,
      "outputs": [
        {
          "output_type": "stream",
          "name": "stdout",
          "text": [
            "{'a': ['b', 'c'], 'b': ['a', 'd'], 'c': ['a', 'd'], 'd': ['b', 'c', 'e'], 'e': ['e']}\n"
          ]
        }
      ]
    },
    {
      "cell_type": "code",
      "source": [
        "g19 = { \n",
        "    1: [2, 3, 4, 5],\n",
        "    2: [1, 3, 4, 5],\n",
        "    3: [1, 2, 4, 5],\n",
        "    4: [1, 2, 3, 5],\n",
        "    5: [1, 2, 3, 4]\n",
        "      }\n",
        "\n",
        "print(g19)"
      ],
      "metadata": {
        "colab": {
          "base_uri": "https://localhost:8080/"
        },
        "id": "sDSvcOkAt3D1",
        "outputId": "1aa7a6b9-e85c-4958-9cfa-9d0376e0d6d0"
      },
      "execution_count": 13,
      "outputs": [
        {
          "output_type": "stream",
          "name": "stdout",
          "text": [
            "{1: [2, 3, 4, 5], 2: [1, 3, 4, 5], 3: [1, 2, 4, 5], 4: [1, 2, 3, 5], 5: [1, 2, 3, 4]}\n"
          ]
        }
      ]
    },
    {
      "cell_type": "code",
      "source": [
        "g20 = {\n",
        "    1: [2, 4],\n",
        "    2: [1, 3, 4],\n",
        "    3: [2, 4],\n",
        "    4: [1, 2, 3]\n",
        "      }\n",
        "\n",
        "print(g20)"
      ],
      "metadata": {
        "colab": {
          "base_uri": "https://localhost:8080/"
        },
        "id": "XGQKB9cHnN8Q",
        "outputId": "17a77097-83ba-4f0f-9361-34aef3301fab"
      },
      "execution_count": 12,
      "outputs": [
        {
          "output_type": "stream",
          "name": "stdout",
          "text": [
            "{1: [2, 4], 2: [1, 3, 4], 3: [2, 4], 4: [1, 2, 3]}\n"
          ]
        }
      ]
    },
    {
      "cell_type": "code",
      "source": [
        "g21 = { \n",
        "    1: [3, 4, 5],\n",
        "    2: [4, 5],\n",
        "    3: [1],\n",
        "    4: [1, 2],\n",
        "    5: [1, 2]\n",
        "      }\n",
        "\n",
        "print(g21)"
      ],
      "metadata": {
        "colab": {
          "base_uri": "https://localhost:8080/"
        },
        "id": "RTsJWnkwnPJA",
        "outputId": "cfb6c704-9ca6-444a-9d8d-1a13c0ef721d"
      },
      "execution_count": 11,
      "outputs": [
        {
          "output_type": "stream",
          "name": "stdout",
          "text": [
            "{1: [3, 4, 5], 2: [4, 5], 3: [1], 4: [1, 2], 5: [1, 2]}\n"
          ]
        }
      ]
    }
  ]
}
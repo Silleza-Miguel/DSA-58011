{
  "nbformat": 4,
  "nbformat_minor": 0,
  "metadata": {
    "colab": {
      "provenance": [],
      "authorship_tag": "ABX9TyNmzvq+K+qh/PxsePsf0Sws",
      "include_colab_link": true
    },
    "kernelspec": {
      "name": "python3",
      "display_name": "Python 3"
    },
    "language_info": {
      "name": "python"
    }
  },
  "cells": [
    {
      "cell_type": "markdown",
      "metadata": {
        "id": "view-in-github",
        "colab_type": "text"
      },
      "source": [
        "<a href=\"https://colab.research.google.com/github/Silleza-Miguel/DSA-58011/blob/main/Assignments/Min_Max.ipynb\" target=\"_parent\"><img src=\"https://colab.research.google.com/assets/colab-badge.svg\" alt=\"Open In Colab\"/></a>"
      ]
    },
    {
      "cell_type": "code",
      "execution_count": null,
      "metadata": {
        "colab": {
          "base_uri": "https://localhost:8080/"
        },
        "id": "-JEnZ5UHFBE0",
        "outputId": "f78dc450-7d0a-49cc-9986-d291948d9d07"
      },
      "outputs": [
        {
          "output_type": "stream",
          "name": "stdout",
          "text": [
            "Please input your sequence, separate the numbers by spaces.\n",
            "Sequence: 1 23 56   78 -03 -100      90\n",
            "\n",
            "Mininum: -100\n",
            "Maximum: 90\n"
          ]
        }
      ],
      "source": [
        "import re\n",
        "\n",
        "def minmax():\n",
        "    s = input('Please input your sequence, separate the numbers by spaces.\\nSequence: ')\n",
        "\n",
        "    s2 = re.sub(' +', ' ', s).split(' ')\n",
        "    set = [int(x) for x in s2]\n",
        "\n",
        "    print(f'\\nMininum: {min(set)}'\n",
        "          f'\\nMaximum: {max(set)}')\n",
        "\n",
        "minmax()"
      ]
    }
  ]
}
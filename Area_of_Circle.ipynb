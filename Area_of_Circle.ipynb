{
  "nbformat": 4,
  "nbformat_minor": 0,
  "metadata": {
    "colab": {
      "name": "Area of Circle",
      "provenance": [],
      "authorship_tag": "ABX9TyPXMbDplxipUCOf9dW4KnK5",
      "include_colab_link": true
    },
    "kernelspec": {
      "name": "python3",
      "display_name": "Python 3"
    },
    "language_info": {
      "name": "python"
    }
  },
  "cells": [
    {
      "cell_type": "markdown",
      "metadata": {
        "id": "view-in-github",
        "colab_type": "text"
      },
      "source": [
        "<a href=\"https://colab.research.google.com/github/Silleza-Miguel/DSA-58011/blob/main/Area_of_Circle.ipynb\" target=\"_parent\"><img src=\"https://colab.research.google.com/assets/colab-badge.svg\" alt=\"Open In Colab\"/></a>"
      ]
    },
    {
      "cell_type": "code",
      "execution_count": 9,
      "metadata": {
        "colab": {
          "base_uri": "https://localhost:8080/"
        },
        "id": "_NrDr2b8Dgov",
        "outputId": "1b4c26b9-f0f7-4862-e651-54d8d1c8f585"
      },
      "outputs": [
        {
          "output_type": "stream",
          "name": "stdout",
          "text": [
            "What is the diameter? 9\n",
            "The area is 63.585\n"
          ]
        }
      ],
      "source": [
        "diameter = int(input(\"What is the diameter? \"))\n",
        "\n",
        "area = str(3.14*((diameter/2)**2))\n",
        "\n",
        "print(f\"The area is {area}\")"
      ]
    }
  ]
}